{
 "cells": [
  {
   "cell_type": "code",
   "execution_count": 1,
   "metadata": {},
   "outputs": [],
   "source": [
    "import pandas as pd \n",
    "import numpy as np\n",
    "import json\n",
    "from gensim.models import word2vec\n",
    "import jieba \n",
    "import jieba.analyse"
   ]
  },
  {
   "cell_type": "markdown",
   "metadata": {},
   "source": [
    "## 用wiki中文corpus建立word2vec模型\n",
    "1. 讀檔編碼, 取出content\n",
    "2. 使用jieba切詞\n",
    "3. 製作model"
   ]
  },
  {
   "cell_type": "markdown",
   "metadata": {},
   "source": [
    "#### 讀檔\n",
    "1. 讀檔\n",
    "2. 繁簡轉換\n"
   ]
  },
  {
   "cell_type": "code",
   "execution_count": 2,
   "metadata": {},
   "outputs": [
    {
     "data": {
      "text/html": [
       "<div>\n",
       "<style scoped>\n",
       "    .dataframe tbody tr th:only-of-type {\n",
       "        vertical-align: middle;\n",
       "    }\n",
       "\n",
       "    .dataframe tbody tr th {\n",
       "        vertical-align: top;\n",
       "    }\n",
       "\n",
       "    .dataframe thead th {\n",
       "        text-align: right;\n",
       "    }\n",
       "</style>\n",
       "<table border=\"1\" class=\"dataframe\">\n",
       "  <thead>\n",
       "    <tr style=\"text-align: right;\">\n",
       "      <th></th>\n",
       "      <th>content</th>\n",
       "      <th>id</th>\n",
       "      <th>title</th>\n",
       "      <th>url</th>\n",
       "    </tr>\n",
       "  </thead>\n",
       "  <tbody>\n",
       "    <tr>\n",
       "      <th>0</th>\n",
       "      <td>数学\\n数学是利用符号语言研究數量、结构、变化以及空间等概念的一門学科，从某种角度看屬於形式...</td>\n",
       "      <td>13</td>\n",
       "      <td>数学</td>\n",
       "      <td>https://zh.wikipedia.org/wiki?curid=13</td>\n",
       "    </tr>\n",
       "    <tr>\n",
       "      <th>1</th>\n",
       "      <td>哲学\\n哲學（），可以是特指學術上針對思考方法的學問，也可以是指对普遍而基本的主題的研究，这...</td>\n",
       "      <td>18</td>\n",
       "      <td>哲学</td>\n",
       "      <td>https://zh.wikipedia.org/wiki?curid=18</td>\n",
       "    </tr>\n",
       "    <tr>\n",
       "      <th>2</th>\n",
       "      <td>文學\\n文学是指以语言文字为工具形象化地反映艺术，包括戏剧、诗歌、小说、散文等，是文化的重要...</td>\n",
       "      <td>21</td>\n",
       "      <td>文學</td>\n",
       "      <td>https://zh.wikipedia.org/wiki?curid=21</td>\n",
       "    </tr>\n",
       "    <tr>\n",
       "      <th>3</th>\n",
       "      <td>历史\\n歷史，或简称史，指人类社会过去的事件和行动，以及对这些事件行为有系统的记录、诠释和研...</td>\n",
       "      <td>22</td>\n",
       "      <td>历史</td>\n",
       "      <td>https://zh.wikipedia.org/wiki?curid=22</td>\n",
       "    </tr>\n",
       "    <tr>\n",
       "      <th>4</th>\n",
       "      <td>计算机科学\\n计算机科学用于解决信息与计算的理论基础，以及实现和应用它们的实用技术。\\n计算...</td>\n",
       "      <td>25</td>\n",
       "      <td>计算机科学</td>\n",
       "      <td>https://zh.wikipedia.org/wiki?curid=25</td>\n",
       "    </tr>\n",
       "  </tbody>\n",
       "</table>\n",
       "</div>"
      ],
      "text/plain": [
       "                                             content  id  title  \\\n",
       "0  数学\\n数学是利用符号语言研究數量、结构、变化以及空间等概念的一門学科，从某种角度看屬於形式...  13     数学   \n",
       "1  哲学\\n哲學（），可以是特指學術上針對思考方法的學問，也可以是指对普遍而基本的主題的研究，这...  18     哲学   \n",
       "2  文學\\n文学是指以语言文字为工具形象化地反映艺术，包括戏剧、诗歌、小说、散文等，是文化的重要...  21     文學   \n",
       "3  历史\\n歷史，或简称史，指人类社会过去的事件和行动，以及对这些事件行为有系统的记录、诠释和研...  22     历史   \n",
       "4  计算机科学\\n计算机科学用于解决信息与计算的理论基础，以及实现和应用它们的实用技术。\\n计算...  25  计算机科学   \n",
       "\n",
       "                                      url  \n",
       "0  https://zh.wikipedia.org/wiki?curid=13  \n",
       "1  https://zh.wikipedia.org/wiki?curid=18  \n",
       "2  https://zh.wikipedia.org/wiki?curid=21  \n",
       "3  https://zh.wikipedia.org/wiki?curid=22  \n",
       "4  https://zh.wikipedia.org/wiki?curid=25  "
      ]
     },
     "execution_count": 2,
     "metadata": {},
     "output_type": "execute_result"
    }
   ],
   "source": [
    "with open('WikiJson.json', 'r',encoding='utf-8') as f:\n",
    "    data = json.load(f)\n",
    "\n",
    "wiki = pd.DataFrame(data)\n",
    "wiki.head()"
   ]
  },
  {
   "cell_type": "markdown",
   "metadata": {},
   "source": [
    "#### 繁簡轉換, 使用OpenCC\n",
    "1. pip install opencc-python-reimplemented\n",
    "2. OpenCC() 設定<br>\n",
    "    t2s - 繁轉簡<br>\n",
    "    s2t - 簡轉繁<br>\n",
    "    mix2t - 混和轉繁<br>\n",
    "    mix2s - 混和轉簡<br>\n",
    "3. OpenCC().convert(x) 來轉換"
   ]
  },
  {
   "cell_type": "code",
   "execution_count": 3,
   "metadata": {},
   "outputs": [],
   "source": [
    "from opencc import OpenCC"
   ]
  },
  {
   "cell_type": "code",
   "execution_count": 4,
   "metadata": {},
   "outputs": [],
   "source": [
    "cc = OpenCC('s2t')"
   ]
  },
  {
   "cell_type": "code",
   "execution_count": 5,
   "metadata": {},
   "outputs": [],
   "source": [
    "wiki['content'] = wiki['content'].apply(lambda x: cc.convert(x))\n",
    "wiki['title'] = wiki['title'].apply(lambda x: cc.convert(x))"
   ]
  },
  {
   "cell_type": "code",
   "execution_count": 9,
   "metadata": {},
   "outputs": [
    {
     "data": {
      "text/html": [
       "<div>\n",
       "<style scoped>\n",
       "    .dataframe tbody tr th:only-of-type {\n",
       "        vertical-align: middle;\n",
       "    }\n",
       "\n",
       "    .dataframe tbody tr th {\n",
       "        vertical-align: top;\n",
       "    }\n",
       "\n",
       "    .dataframe thead th {\n",
       "        text-align: right;\n",
       "    }\n",
       "</style>\n",
       "<table border=\"1\" class=\"dataframe\">\n",
       "  <thead>\n",
       "    <tr style=\"text-align: right;\">\n",
       "      <th></th>\n",
       "      <th>content</th>\n",
       "      <th>id</th>\n",
       "      <th>title</th>\n",
       "      <th>url</th>\n",
       "    </tr>\n",
       "  </thead>\n",
       "  <tbody>\n",
       "    <tr>\n",
       "      <th>0</th>\n",
       "      <td>數學\\n數學是利用符號語言研究數量、結構、變化以及空間等概念的一門學科，從某種角度看屬於形式...</td>\n",
       "      <td>13</td>\n",
       "      <td>數學</td>\n",
       "      <td>https://zh.wikipedia.org/wiki?curid=13</td>\n",
       "    </tr>\n",
       "    <tr>\n",
       "      <th>1</th>\n",
       "      <td>哲學\\n哲學（），可以是特指學術上針對思考方法的學問，也可以是指對普遍而基本的主題的研究，這...</td>\n",
       "      <td>18</td>\n",
       "      <td>哲學</td>\n",
       "      <td>https://zh.wikipedia.org/wiki?curid=18</td>\n",
       "    </tr>\n",
       "    <tr>\n",
       "      <th>2</th>\n",
       "      <td>文學\\n文學是指以語言文字爲工具形象化地反映藝術，包括戲劇、詩歌、小說、散文等，是文化的重要...</td>\n",
       "      <td>21</td>\n",
       "      <td>文學</td>\n",
       "      <td>https://zh.wikipedia.org/wiki?curid=21</td>\n",
       "    </tr>\n",
       "    <tr>\n",
       "      <th>3</th>\n",
       "      <td>歷史\\n歷史，或簡稱史，指人類社會過去的事件和行動，以及對這些事件行爲有系統的記錄、詮釋和研...</td>\n",
       "      <td>22</td>\n",
       "      <td>歷史</td>\n",
       "      <td>https://zh.wikipedia.org/wiki?curid=22</td>\n",
       "    </tr>\n",
       "    <tr>\n",
       "      <th>4</th>\n",
       "      <td>計算機科學\\n計算機科學用於解決信息與計算的理論基礎，以及實現和應用它們的實用技術。\\n計算...</td>\n",
       "      <td>25</td>\n",
       "      <td>計算機科學</td>\n",
       "      <td>https://zh.wikipedia.org/wiki?curid=25</td>\n",
       "    </tr>\n",
       "  </tbody>\n",
       "</table>\n",
       "</div>"
      ],
      "text/plain": [
       "                                             content  id  title  \\\n",
       "0  數學\\n數學是利用符號語言研究數量、結構、變化以及空間等概念的一門學科，從某種角度看屬於形式...  13     數學   \n",
       "1  哲學\\n哲學（），可以是特指學術上針對思考方法的學問，也可以是指對普遍而基本的主題的研究，這...  18     哲學   \n",
       "2  文學\\n文學是指以語言文字爲工具形象化地反映藝術，包括戲劇、詩歌、小說、散文等，是文化的重要...  21     文學   \n",
       "3  歷史\\n歷史，或簡稱史，指人類社會過去的事件和行動，以及對這些事件行爲有系統的記錄、詮釋和研...  22     歷史   \n",
       "4  計算機科學\\n計算機科學用於解決信息與計算的理論基礎，以及實現和應用它們的實用技術。\\n計算...  25  計算機科學   \n",
       "\n",
       "                                      url  \n",
       "0  https://zh.wikipedia.org/wiki?curid=13  \n",
       "1  https://zh.wikipedia.org/wiki?curid=18  \n",
       "2  https://zh.wikipedia.org/wiki?curid=21  \n",
       "3  https://zh.wikipedia.org/wiki?curid=22  \n",
       "4  https://zh.wikipedia.org/wiki?curid=25  "
      ]
     },
     "execution_count": 9,
     "metadata": {},
     "output_type": "execute_result"
    }
   ],
   "source": [
    "wiki.head()"
   ]
  },
  {
   "cell_type": "markdown",
   "metadata": {},
   "source": [
    "#### 使用jieba分詞\n",
    "1. 使用jieba分詞\n",
    "2. 去除特殊符號"
   ]
  },
  {
   "cell_type": "code",
   "execution_count": 10,
   "metadata": {},
   "outputs": [],
   "source": [
    "import re"
   ]
  },
  {
   "cell_type": "code",
   "execution_count": 20,
   "metadata": {},
   "outputs": [],
   "source": [
    "def jieba_tokenizer(text):\n",
    "    words = jieba.cut(text)\n",
    "    return ' '.join(words)"
   ]
  },
  {
   "cell_type": "code",
   "execution_count": 29,
   "metadata": {},
   "outputs": [],
   "source": [
    "wiki['content_tokenized'] = wiki.loc[:,'content'].apply(lambda x: jieba_tokenizer(x))"
   ]
  },
  {
   "cell_type": "code",
   "execution_count": 45,
   "metadata": {},
   "outputs": [],
   "source": [
    "wiki['content_tokenized'] = wiki.loc[:,'content_tokenized'].apply(lambda x: re.sub('[#！＝=、，「」（）。《》()【】：？－ “ ” \\n \\' \"\" . ]',' ',x))"
   ]
  },
  {
   "cell_type": "code",
   "execution_count": 46,
   "metadata": {},
   "outputs": [
    {
     "data": {
      "text/html": [
       "<div>\n",
       "<style scoped>\n",
       "    .dataframe tbody tr th:only-of-type {\n",
       "        vertical-align: middle;\n",
       "    }\n",
       "\n",
       "    .dataframe tbody tr th {\n",
       "        vertical-align: top;\n",
       "    }\n",
       "\n",
       "    .dataframe thead th {\n",
       "        text-align: right;\n",
       "    }\n",
       "</style>\n",
       "<table border=\"1\" class=\"dataframe\">\n",
       "  <thead>\n",
       "    <tr style=\"text-align: right;\">\n",
       "      <th></th>\n",
       "      <th>content</th>\n",
       "      <th>id</th>\n",
       "      <th>title</th>\n",
       "      <th>url</th>\n",
       "      <th>content_tokenized</th>\n",
       "    </tr>\n",
       "  </thead>\n",
       "  <tbody>\n",
       "    <tr>\n",
       "      <th>0</th>\n",
       "      <td>數學\\n數學是利用符號語言研究數量、結構、變化以及空間等概念的一門學科，從某種角度看屬於形式...</td>\n",
       "      <td>13</td>\n",
       "      <td>數學</td>\n",
       "      <td>https://zh.wikipedia.org/wiki?curid=13</td>\n",
       "      <td>數學   數學 是 利用 符號 語言 研究 數量   結構   變化 以及 空間 等 概念 ...</td>\n",
       "    </tr>\n",
       "    <tr>\n",
       "      <th>1</th>\n",
       "      <td>哲學\\n哲學（），可以是特指學術上針對思考方法的學問，也可以是指對普遍而基本的主題的研究，這...</td>\n",
       "      <td>18</td>\n",
       "      <td>哲學</td>\n",
       "      <td>https://zh.wikipedia.org/wiki?curid=18</td>\n",
       "      <td>哲學   哲學       可以 是 特指 學術 上 針對 思考 方法 的 學問   也 可...</td>\n",
       "    </tr>\n",
       "    <tr>\n",
       "      <th>2</th>\n",
       "      <td>文學\\n文學是指以語言文字爲工具形象化地反映藝術，包括戲劇、詩歌、小說、散文等，是文化的重要...</td>\n",
       "      <td>21</td>\n",
       "      <td>文學</td>\n",
       "      <td>https://zh.wikipedia.org/wiki?curid=21</td>\n",
       "      <td>文學   文學 是 指 以 語言 文字 爲 工具 形象 化地 反映 藝術   包括 戲劇  ...</td>\n",
       "    </tr>\n",
       "    <tr>\n",
       "      <th>3</th>\n",
       "      <td>歷史\\n歷史，或簡稱史，指人類社會過去的事件和行動，以及對這些事件行爲有系統的記錄、詮釋和研...</td>\n",
       "      <td>22</td>\n",
       "      <td>歷史</td>\n",
       "      <td>https://zh.wikipedia.org/wiki?curid=22</td>\n",
       "      <td>歷史   歷史   或 簡稱 史   指 人類 社會 過去 的 事件 和 行動   以及 對...</td>\n",
       "    </tr>\n",
       "    <tr>\n",
       "      <th>4</th>\n",
       "      <td>計算機科學\\n計算機科學用於解決信息與計算的理論基礎，以及實現和應用它們的實用技術。\\n計算...</td>\n",
       "      <td>25</td>\n",
       "      <td>計算機科學</td>\n",
       "      <td>https://zh.wikipedia.org/wiki?curid=25</td>\n",
       "      <td>計算機 科學   計算機 科學 用於 解決 信息 與 計算 的 理論 基礎   以及 實現 ...</td>\n",
       "    </tr>\n",
       "  </tbody>\n",
       "</table>\n",
       "</div>"
      ],
      "text/plain": [
       "                                             content  id  title  \\\n",
       "0  數學\\n數學是利用符號語言研究數量、結構、變化以及空間等概念的一門學科，從某種角度看屬於形式...  13     數學   \n",
       "1  哲學\\n哲學（），可以是特指學術上針對思考方法的學問，也可以是指對普遍而基本的主題的研究，這...  18     哲學   \n",
       "2  文學\\n文學是指以語言文字爲工具形象化地反映藝術，包括戲劇、詩歌、小說、散文等，是文化的重要...  21     文學   \n",
       "3  歷史\\n歷史，或簡稱史，指人類社會過去的事件和行動，以及對這些事件行爲有系統的記錄、詮釋和研...  22     歷史   \n",
       "4  計算機科學\\n計算機科學用於解決信息與計算的理論基礎，以及實現和應用它們的實用技術。\\n計算...  25  計算機科學   \n",
       "\n",
       "                                      url  \\\n",
       "0  https://zh.wikipedia.org/wiki?curid=13   \n",
       "1  https://zh.wikipedia.org/wiki?curid=18   \n",
       "2  https://zh.wikipedia.org/wiki?curid=21   \n",
       "3  https://zh.wikipedia.org/wiki?curid=22   \n",
       "4  https://zh.wikipedia.org/wiki?curid=25   \n",
       "\n",
       "                                   content_tokenized  \n",
       "0  數學   數學 是 利用 符號 語言 研究 數量   結構   變化 以及 空間 等 概念 ...  \n",
       "1  哲學   哲學       可以 是 特指 學術 上 針對 思考 方法 的 學問   也 可...  \n",
       "2  文學   文學 是 指 以 語言 文字 爲 工具 形象 化地 反映 藝術   包括 戲劇  ...  \n",
       "3  歷史   歷史   或 簡稱 史   指 人類 社會 過去 的 事件 和 行動   以及 對...  \n",
       "4  計算機 科學   計算機 科學 用於 解決 信息 與 計算 的 理論 基礎   以及 實現 ...  "
      ]
     },
     "execution_count": 46,
     "metadata": {},
     "output_type": "execute_result"
    }
   ],
   "source": [
    "wiki.head()"
   ]
  },
  {
   "cell_type": "code",
   "execution_count": 47,
   "metadata": {},
   "outputs": [],
   "source": [
    "wiki.to_csv('wiki_2.csv',encoding='utf-8',index=False)"
   ]
  },
  {
   "cell_type": "markdown",
   "metadata": {},
   "source": [
    "#### 製作model"
   ]
  },
  {
   "cell_type": "code",
   "execution_count": 2,
   "metadata": {},
   "outputs": [],
   "source": [
    "wiki = pd.read_csv('wiki.csv')"
   ]
  },
  {
   "cell_type": "code",
   "execution_count": 3,
   "metadata": {},
   "outputs": [],
   "source": [
    "corpus = wiki['content_tokenized'].values.tolist()\n",
    "corpus_list = list(map(lambda x: x.split(), corpus))"
   ]
  },
  {
   "cell_type": "code",
   "execution_count": 4,
   "metadata": {},
   "outputs": [],
   "source": [
    "model = word2vec.Word2Vec(corpus_list, size=300, iter=7, sg=0, hs=0)"
   ]
  },
  {
   "cell_type": "code",
   "execution_count": 5,
   "metadata": {},
   "outputs": [],
   "source": [
    "model.save('word2vec_wiki')"
   ]
  },
  {
   "cell_type": "code",
   "execution_count": 6,
   "metadata": {},
   "outputs": [],
   "source": [
    "model = word2vec.Word2Vec.load('word2vec_wiki')"
   ]
  },
  {
   "cell_type": "code",
   "execution_count": 7,
   "metadata": {},
   "outputs": [],
   "source": [
    "\"\"\" 測試\n",
    "\"\"\"\n",
    "similar_df = pd.DataFrame()\n",
    "similar_words = pd.DataFrame(model.wv.most_similar('橄欖油', topn=20), columns=['word', 'cos'])\n",
    "similar_df = pd.concat([similar_df, similar_words], axis=0)"
   ]
  },
  {
   "cell_type": "code",
   "execution_count": 8,
   "metadata": {},
   "outputs": [
    {
     "data": {
      "text/html": [
       "<div>\n",
       "<style scoped>\n",
       "    .dataframe tbody tr th:only-of-type {\n",
       "        vertical-align: middle;\n",
       "    }\n",
       "\n",
       "    .dataframe tbody tr th {\n",
       "        vertical-align: top;\n",
       "    }\n",
       "\n",
       "    .dataframe thead th {\n",
       "        text-align: right;\n",
       "    }\n",
       "</style>\n",
       "<table border=\"1\" class=\"dataframe\">\n",
       "  <thead>\n",
       "    <tr style=\"text-align: right;\">\n",
       "      <th></th>\n",
       "      <th>word</th>\n",
       "      <th>cos</th>\n",
       "    </tr>\n",
       "  </thead>\n",
       "  <tbody>\n",
       "    <tr>\n",
       "      <th>0</th>\n",
       "      <td>乳酪</td>\n",
       "      <td>0.747784</td>\n",
       "    </tr>\n",
       "    <tr>\n",
       "      <th>1</th>\n",
       "      <td>酸奶</td>\n",
       "      <td>0.747329</td>\n",
       "    </tr>\n",
       "    <tr>\n",
       "      <th>2</th>\n",
       "      <td>糖漿</td>\n",
       "      <td>0.744256</td>\n",
       "    </tr>\n",
       "    <tr>\n",
       "      <th>3</th>\n",
       "      <td>調味品</td>\n",
       "      <td>0.741621</td>\n",
       "    </tr>\n",
       "    <tr>\n",
       "      <th>4</th>\n",
       "      <td>棕櫚油</td>\n",
       "      <td>0.737466</td>\n",
       "    </tr>\n",
       "    <tr>\n",
       "      <th>5</th>\n",
       "      <td>黃油</td>\n",
       "      <td>0.736021</td>\n",
       "    </tr>\n",
       "    <tr>\n",
       "      <th>6</th>\n",
       "      <td>雪利酒</td>\n",
       "      <td>0.735575</td>\n",
       "    </tr>\n",
       "    <tr>\n",
       "      <th>7</th>\n",
       "      <td>牛油</td>\n",
       "      <td>0.735180</td>\n",
       "    </tr>\n",
       "    <tr>\n",
       "      <th>8</th>\n",
       "      <td>蜂蜜</td>\n",
       "      <td>0.733975</td>\n",
       "    </tr>\n",
       "    <tr>\n",
       "      <th>9</th>\n",
       "      <td>調味料</td>\n",
       "      <td>0.732359</td>\n",
       "    </tr>\n",
       "    <tr>\n",
       "      <th>10</th>\n",
       "      <td>辣椒醬</td>\n",
       "      <td>0.731333</td>\n",
       "    </tr>\n",
       "    <tr>\n",
       "      <th>11</th>\n",
       "      <td>葡萄乾</td>\n",
       "      <td>0.730163</td>\n",
       "    </tr>\n",
       "    <tr>\n",
       "      <th>12</th>\n",
       "      <td>白糖</td>\n",
       "      <td>0.728563</td>\n",
       "    </tr>\n",
       "    <tr>\n",
       "      <th>13</th>\n",
       "      <td>奶酪</td>\n",
       "      <td>0.727619</td>\n",
       "    </tr>\n",
       "    <tr>\n",
       "      <th>14</th>\n",
       "      <td>黑胡椒</td>\n",
       "      <td>0.726613</td>\n",
       "    </tr>\n",
       "    <tr>\n",
       "      <th>15</th>\n",
       "      <td>植物油</td>\n",
       "      <td>0.725525</td>\n",
       "    </tr>\n",
       "    <tr>\n",
       "      <th>16</th>\n",
       "      <td>麵粉</td>\n",
       "      <td>0.721248</td>\n",
       "    </tr>\n",
       "    <tr>\n",
       "      <th>17</th>\n",
       "      <td>啤酒花</td>\n",
       "      <td>0.718966</td>\n",
       "    </tr>\n",
       "    <tr>\n",
       "      <th>18</th>\n",
       "      <td>雞肉</td>\n",
       "      <td>0.716925</td>\n",
       "    </tr>\n",
       "    <tr>\n",
       "      <th>19</th>\n",
       "      <td>紅酒</td>\n",
       "      <td>0.716210</td>\n",
       "    </tr>\n",
       "  </tbody>\n",
       "</table>\n",
       "</div>"
      ],
      "text/plain": [
       "   word       cos\n",
       "0    乳酪  0.747784\n",
       "1    酸奶  0.747329\n",
       "2    糖漿  0.744256\n",
       "3   調味品  0.741621\n",
       "4   棕櫚油  0.737466\n",
       "5    黃油  0.736021\n",
       "6   雪利酒  0.735575\n",
       "7    牛油  0.735180\n",
       "8    蜂蜜  0.733975\n",
       "9   調味料  0.732359\n",
       "10  辣椒醬  0.731333\n",
       "11  葡萄乾  0.730163\n",
       "12   白糖  0.728563\n",
       "13   奶酪  0.727619\n",
       "14  黑胡椒  0.726613\n",
       "15  植物油  0.725525\n",
       "16   麵粉  0.721248\n",
       "17  啤酒花  0.718966\n",
       "18   雞肉  0.716925\n",
       "19   紅酒  0.716210"
      ]
     },
     "execution_count": 8,
     "metadata": {},
     "output_type": "execute_result"
    }
   ],
   "source": [
    "similar_df"
   ]
  }
 ],
 "metadata": {
  "kernelspec": {
   "display_name": "'NLP'",
   "language": "python",
   "name": "nlp"
  },
  "language_info": {
   "codemirror_mode": {
    "name": "ipython",
    "version": 3
   },
   "file_extension": ".py",
   "mimetype": "text/x-python",
   "name": "python",
   "nbconvert_exporter": "python",
   "pygments_lexer": "ipython3",
   "version": "3.5.6"
  }
 },
 "nbformat": 4,
 "nbformat_minor": 2
}
